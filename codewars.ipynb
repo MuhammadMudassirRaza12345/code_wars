{
 "cells": [
  {
   "cell_type": "markdown",
   "metadata": {},
   "source": [
    "# Code Wars"
   ]
  },
  {
   "cell_type": "code",
   "execution_count": null,
   "metadata": {},
   "outputs": [],
   "source": [
    "def in_asc_order(arr):\n",
    "    if arr == sorted(arr,reverse=False):\n",
    "        return True\n",
    "    else:\n",
    "         return  False\n",
    "# #       "
   ]
  },
  {
   "cell_type": "code",
   "execution_count": null,
   "metadata": {},
   "outputs": [
    {
     "name": "stdout",
     "output_type": "stream",
     "text": [
      "(True, True)\n",
      "(False, False)\n",
      "(True, True)\n",
      "(False, False)\n",
      "(False, True)\n",
      "(False, False)\n"
     ]
    }
   ],
   "source": [
    "# test.describe(\"Example Tests\")\n",
    "# Array of 2 integers\n",
    "arr = [1, 2]\n",
    "test = (in_asc_order(arr), True)\n",
    "print(test)\n",
    "arr = [2, 1]\n",
    "test= (in_asc_order(arr), False)\n",
    "print(test)\n",
    "# # Array of 3 integers\n",
    "arr = [1, 2, 3]\n",
    "test=(in_asc_order(arr), True)\n",
    "print(test)\n",
    "arr = [1, 3, 2]\n",
    "test=(in_asc_order(arr), False)\n",
    "print(test)\n",
    "# # More complex cases\n",
    "# arr = [1,4,13,97,508,1047,20058]\n",
    "test=(in_asc_order(arr), True)\n",
    "print(test)\n",
    "arr = [56,98,123,67,742,1024,32,90969]\n",
    "test=(in_asc_order(arr), False)\n",
    "print(test)"
   ]
  },
  {
   "cell_type": "code",
   "execution_count": null,
   "metadata": {},
   "outputs": [
    {
     "name": "stdout",
     "output_type": "stream",
     "text": [
      "no characters repeats more than once \n",
      "no characters repeats more than once \n",
      "no characters repeats more than once \n",
      "d repeat  2 times\n",
      "d repeat  2 times\n",
      "no characters repeats more than once \n"
     ]
    }
   ],
   "source": [
    "def duplicate_count(text):\n",
    "    for i in text :\n",
    "#         print(text.count(i))\n",
    "        if text.count(i) > 1:\n",
    "            print(i ,\"repeat \",text.count(i) ,\"times\" )\n",
    "        else:\n",
    "            print(\"no characters repeats more than once \")\n",
    "duplicate_count(\"abcdde\")\n",
    "    # Your code goes here\n",
    "     "
   ]
  },
  {
   "cell_type": "code",
   "execution_count": null,
   "metadata": {},
   "outputs": [
    {
     "name": "stdout",
     "output_type": "stream",
     "text": [
      "abcde\n"
     ]
    }
   ],
   "source": [
    "a=\"abcdE\"\n",
    "\n",
    "print(a.lower())"
   ]
  },
  {
   "cell_type": "code",
   "execution_count": null,
   "metadata": {},
   "outputs": [
    {
     "name": "stdout",
     "output_type": "stream",
     "text": [
      "{'a': 1, 'd': 2, 'c': 1, 'e': 1, 'b': 1}\n",
      "[1, 1, 1, 1, 2]\n"
     ]
    },
    {
     "data": {
      "text/plain": [
       "1"
      ]
     },
     "execution_count": 5,
     "metadata": {},
     "output_type": "execute_result"
    }
   ],
   "source": [
    "def duplicate_count(text):\n",
    "    text = text.lower()\n",
    "    count={}\n",
    "    for i in set(text):\n",
    "        count[i]=text.count(i)\n",
    "         \n",
    "    # count = {i: text.count(i) for i in set(text)}\n",
    "    print(count)\n",
    "    \n",
    "    count=sorted(count.values())\n",
    "    print(count)\n",
    "    # count = sorted(count.values())\n",
    "    result = 0\n",
    "    for i in count:\n",
    "        if i > 1:\n",
    "            result += 1\n",
    "    return result\n",
    "    \n",
    "   \n",
    "\n",
    "duplicate_count(\"abcdde\")    "
   ]
  },
  {
   "cell_type": "code",
   "execution_count": null,
   "metadata": {},
   "outputs": [
    {
     "data": {
      "text/plain": [
       "['Open', 'Senior', 'Open', 'Senior']"
      ]
     },
     "execution_count": 6,
     "metadata": {},
     "output_type": "execute_result"
    }
   ],
   "source": [
    "def open_or_senior(data):\n",
    "    # print(data)\n",
    "    result=[]\n",
    "    for i ,k in enumerate(data):\n",
    "        # print(data[i][0],\"value\",data[i][1],\"\\n\")\n",
    "        if data[i][0]>=55 and data[i][1]>7:\n",
    "            result.append(\"Senior\")\n",
    "        else:\n",
    "            result.append(\"Open\")    \n",
    "    # \n",
    "    return result\n",
    "\n",
    "    \n",
    "    \n",
    "open_or_senior([(45, 12), (55, 21), (19, -2), (104, 20)])  "
   ]
  },
  {
   "cell_type": "code",
   "execution_count": null,
   "metadata": {},
   "outputs": [
    {
     "name": "stdout",
     "output_type": "stream",
     "text": [
      "45 and 12\n",
      "55 and 21\n",
      "19 and -2\n",
      "104 and 20\n"
     ]
    },
    {
     "data": {
      "text/plain": [
       "['Open', 'Senior', 'Open', 'Senior']"
      ]
     },
     "execution_count": 7,
     "metadata": {},
     "output_type": "execute_result"
    }
   ],
   "source": [
    "def open_or_senior(data):\n",
    "    # print(data)\n",
    "    result=[]\n",
    "    for i in data:\n",
    "        # print(data[i][0],\"value\",data[i][1],\"\\n\")\n",
    "        print(i[0],\"and\",i[1])\n",
    "        if i[0]>=55 and  i[0]>7:\n",
    "            result.append(\"Senior\")\n",
    "        else:\n",
    "            result.append(\"Open\")    \n",
    "    return result\n",
    "\n",
    "    \n",
    "    \n",
    "open_or_senior([(45, 12), (55, 21), (19, -2), (104, 20)])  "
   ]
  },
  {
   "cell_type": "code",
   "execution_count": null,
   "metadata": {},
   "outputs": [
    {
     "data": {
      "text/plain": [
       "['Open', 'Senior', 'Open', 'Senior']"
      ]
     },
     "execution_count": 8,
     "metadata": {},
     "output_type": "execute_result"
    }
   ],
   "source": [
    "def open_or_senior(data):\n",
    "  \n",
    "        \n",
    "    return  [\"Senior\" if i[0]>=55 and  i[0]>7 else \"Open\" for i in data]\n",
    "\n",
    "    \n",
    "    \n",
    "open_or_senior([(45, 12), (55, 21), (19, -2), (104, 20)])  "
   ]
  },
  {
   "cell_type": "code",
   "execution_count": null,
   "metadata": {},
   "outputs": [
    {
     "name": "stdout",
     "output_type": "stream",
     "text": [
      "['Open', 'Senior', 'Open', 'Senior']\n"
     ]
    }
   ],
   "source": [
    "def open_or_senior(data):\n",
    "    result=[]\n",
    "    for (age, handicap) in data:\n",
    "        if age >= 55 and handicap > 7:\n",
    "            result.append(\"Senior\") \n",
    "        else:\n",
    "            result.append(\"Open\")    \n",
    "    print(result)\n",
    "\n",
    "open_or_senior([(45, 12), (55, 21), (19, -2), (104, 20)])      "
   ]
  },
  {
   "cell_type": "code",
   "execution_count": null,
   "metadata": {},
   "outputs": [
    {
     "name": "stdout",
     "output_type": "stream",
     "text": [
      "['Open', 'Senior', 'Open', 'Senior']\n"
     ]
    }
   ],
   "source": [
    "def openOrSenior(data):\n",
    "  return [\"Senior\" if age >= 55 and handicap >= 8 else \"Open\" for (age, handicap) in data]\n",
    "open_or_senior([(45, 12), (55, 21), (19, -2), (104, 20)])      "
   ]
  },
  {
   "cell_type": "code",
   "execution_count": null,
   "metadata": {},
   "outputs": [
    {
     "name": "stdout",
     "output_type": "stream",
     "text": [
      "['Open', 'Senior', 'Open', 'Senior']\n"
     ]
    }
   ],
   "source": [
    "def openOrSenior(members):\n",
    "    return [\"Senior\" if m[0]>54 and m[1]>7 else \"Open\" for m in members]\n",
    "open_or_senior([(45, 12), (55, 21), (19, -2), (104, 20)])   "
   ]
  },
  {
   "cell_type": "code",
   "execution_count": null,
   "metadata": {},
   "outputs": [
    {
     "data": {
      "text/plain": [
       "160"
      ]
     },
     "execution_count": 12,
     "metadata": {},
     "output_type": "execute_result"
    }
   ],
   "source": [
    "def find_outlier(integers):\n",
    "    even=[]\n",
    "    odd=[]\n",
    "    for i in integers:\n",
    "        if i%2 >0:\n",
    "            odd.append(i)\n",
    "        elif i%2 ==0:\n",
    "            even.append(i)\n",
    "    if len(odd)>len(even):\n",
    "        return even[0]\n",
    "    else:\n",
    "        return odd[0]        \n",
    "        \n",
    "find_outlier([2, 4, 0, 100, 4, 11, 2602, 36])   \n",
    "find_outlier([160, 3, 1719, 19, 11, 13, -21]) \n",
    " "
   ]
  },
  {
   "cell_type": "code",
   "execution_count": null,
   "metadata": {},
   "outputs": [
    {
     "data": {
      "text/plain": [
       "11"
      ]
     },
     "execution_count": 13,
     "metadata": {},
     "output_type": "execute_result"
    }
   ],
   "source": [
    "def find_outlier(integers):\n",
    "    odds = [x for x in integers if x%2!=0]\n",
    "    evens= [x for x in integers if x%2==0]\n",
    "    return odds[0] if len(odds)<len(evens) else evens[0] \n",
    "find_outlier([2, 4, 0, 100, 4, 11, 2602, 36])       "
   ]
  },
  {
   "cell_type": "code",
   "execution_count": null,
   "metadata": {},
   "outputs": [
    {
     "data": {
      "text/plain": [
       "True"
      ]
     },
     "execution_count": 14,
     "metadata": {},
     "output_type": "execute_result"
    }
   ],
   "source": [
    "def XO(s):\n",
    "    s=s.lower()\n",
    "    if s.count(\"x\")==s.count(\"o\"):\n",
    "        return True\n",
    "    else:\n",
    "        return False\n",
    "     \n",
    "              \n",
    "\n",
    "# XO(\"ooxx\") \n",
    "# XO(\"xooxx\")  \n",
    "# XO(\"ooxXm\")  \n",
    "XO(\"zpzpzpp\")    \n",
    "# XO(\"zzoo\")   "
   ]
  },
  {
   "cell_type": "code",
   "execution_count": null,
   "metadata": {},
   "outputs": [
    {
     "data": {
      "text/plain": [
       "False"
      ]
     },
     "execution_count": 15,
     "metadata": {},
     "output_type": "execute_result"
    }
   ],
   "source": [
    "def XO(s):\n",
    "    s=s.lower()\n",
    "    return s.count(\"x\")==s.count(\"o\")\n",
    "XO(\"ooxxx\") "
   ]
  },
  {
   "cell_type": "code",
   "execution_count": null,
   "metadata": {},
   "outputs": [
    {
     "data": {
      "text/plain": [
       "False"
      ]
     },
     "execution_count": 16,
     "metadata": {},
     "output_type": "execute_result"
    }
   ],
   "source": [
    "def XO(s):\n",
    "    return s.lower().count(\"x\")==s.lower().count(\"o\")\n",
    "XO(\"ooxxx\")"
   ]
  },
  {
   "cell_type": "code",
   "execution_count": null,
   "metadata": {},
   "outputs": [
    {
     "data": {
      "text/plain": [
       "'ABC'"
      ]
     },
     "execution_count": 17,
     "metadata": {},
     "output_type": "execute_result"
    }
   ],
   "source": [
    "import re \n",
    "def to_camel_case(text):\n",
    "    \n",
    "    split =  re.split(\"-|_\",text)  \n",
    "    # print(split[0])\n",
    "\n",
    "    camelcase = split[0] + ''.join(word.title() for word in split[1:])\n",
    "    return camelcase\n",
    "# to_camel_case('The-Stealth_Warrior')  \n",
    "to_camel_case('A-B-C')  "
   ]
  },
  {
   "cell_type": "code",
   "execution_count": null,
   "metadata": {},
   "outputs": [
    {
     "data": {
      "text/plain": [
       "'ABC'"
      ]
     },
     "execution_count": 18,
     "metadata": {},
     "output_type": "execute_result"
    }
   ],
   "source": [
    "import re\n",
    "def to_camel_case(text):\n",
    "    return re.sub('[_-](.)', lambda x: x.group(1).upper(), text)\n",
    "to_camel_case('A-B-C')  "
   ]
  },
  {
   "cell_type": "code",
   "execution_count": null,
   "metadata": {},
   "outputs": [
    {
     "data": {
      "text/plain": [
       "'ABC'"
      ]
     },
     "execution_count": 19,
     "metadata": {},
     "output_type": "execute_result"
    }
   ],
   "source": [
    "def to_camel_case(text):\n",
    "    words = text.replace('_', '-').split('-')\n",
    "    return words[0] + ''.join([x.title() for x in words[1:]])\n",
    "to_camel_case('A-B-C')      "
   ]
  },
  {
   "cell_type": "code",
   "execution_count": 1,
   "metadata": {},
   "outputs": [
    {
     "data": {
      "text/plain": [
       "'ABC'"
      ]
     },
     "execution_count": 1,
     "metadata": {},
     "output_type": "execute_result"
    }
   ],
   "source": [
    "def to_camel_case(text):\n",
    "    # return text[:1] + text.title()[1:].replace('_', '').replace('-', '')\n",
    "    return text[0] + text.title()[1:].replace('_', '').replace('-', '')\n",
    "to_camel_case('A-B-C')      "
   ]
  },
  {
   "cell_type": "code",
   "execution_count": null,
   "metadata": {},
   "outputs": [
    {
     "name": "stdout",
     "output_type": "stream",
     "text": [
      "The original string is : javatpoint_is_best_for_coding_tutorials\n",
      "The camelcase of the string created is : javatpointIsBestForCodingTutorials\n"
     ]
    }
   ],
   "source": [
    "# creating a string  \n",
    "string = 'javatpoint_is_best_for_coding_tutorials'  \n",
    "    \n",
    "# printing initial string  \n",
    "print(\"The original string is : \" + string)  \n",
    "    \n",
    "# ssplitting string from underscores  \n",
    "split = string.split('_')  \n",
    "    \n",
    "# joining each part by capitalizing first letter   \n",
    "camelcase = split[0] + ''.join(word.title() for word in split[1:])  \n",
    "        \n",
    "# printing result   \n",
    "print(\"The camelcase of the string created is : \" + camelcase)  "
   ]
  },
  {
   "cell_type": "code",
   "execution_count": null,
   "metadata": {},
   "outputs": [
    {
     "name": "stdout",
     "output_type": "stream",
     "text": [
      "(5, '*')\n"
     ]
    },
    {
     "data": {
      "text/plain": [
       "35"
      ]
     },
     "execution_count": 22,
     "metadata": {},
     "output_type": "execute_result"
    }
   ],
   "source": [
    "def five(): #your code here\n",
    "    return 5  \n",
    "def times(val): #your code here\n",
    "     return  val,\"*\" \n",
    "\n",
    "def seven(val): #your code here\n",
    "    print(val)\n",
    "    operation = val[1]\n",
    "    if operation == \"*\":\n",
    "        return val[0]*7\n",
    "    if operation == \"+\":\n",
    "        return val[0]+7\n",
    "    if operation == \"-\":\n",
    "        return val[0]-7\n",
    "    if operation == \"/\":\n",
    "        return val[0]/7            \n",
    "        \n",
    "    # if val[1] == \"*\":\n",
    "    #     return val[0] *7\n",
    "    \n",
    "# # def zero(): #your code here\n",
    "# # def one(): #your code here\n",
    "# # def two(): #your code here\n",
    "# # def three(): #your code here\n",
    "# # def four(): #your code here\n",
    "    \n",
    "# def five(num): #your code here\n",
    "#     return 5 * num\n",
    "\n",
    "\n",
    "# # def six(): #your code here\n",
    "# def seven(): #your code here\n",
    "#     return  5 \n",
    "# # def eight(): #your code here\n",
    "# # def nine(): #your code here\n",
    "\n",
    "# # def plus(): #your code here\n",
    "# # def minus(): #your code here\n",
    "# def times(val): #your code here\n",
    "#     return val \n",
    "    \n",
    "# # def divided_by(): #your code here\n",
    "\n",
    "# five()\n",
    "# times(five())\n",
    "\n",
    "seven(times(five()))"
   ]
  },
  {
   "cell_type": "code",
   "execution_count": null,
   "metadata": {},
   "outputs": [
    {
     "data": {
      "text/plain": [
       "35"
      ]
     },
     "execution_count": 23,
     "metadata": {},
     "output_type": "execute_result"
    }
   ],
   "source": [
    "def zero(f = None): return 0 if f is None else int(f(0))\n",
    "def one(f = None): return 1 if f is None else int(f(1))\n",
    "def two(f = None): return 2 if f is None else int(f(2))\n",
    "def three(f = None): return 3 if f is None else int(f(3))\n",
    "def four(f = None): return 4 if f is None else int(f(4))\n",
    "def five(f = None): return 5 if f is None else  int(f(5))\n",
    "def six(f = None): return 6 if f is None else int(f(6))\n",
    "def seven(f = None): return 7 if f is None else int(f(7))\n",
    "def eight(f = None): return 8 if f is None else int(f(8))\n",
    "def nine(f = None): return 9 if f is None else int(f(9))\n",
    "\n",
    "def plus(y): return lambda x: x + y\n",
    "def minus(y): return lambda x: x - y\n",
    "def times(y): return lambda x: x * y\n",
    "def divided_by(y): return lambda x: x / y\n",
    "\n",
    "seven(times(five()))"
   ]
  },
  {
   "cell_type": "code",
   "execution_count": null,
   "metadata": {},
   "outputs": [
    {
     "data": {
      "text/plain": [
       "35"
      ]
     },
     "execution_count": 24,
     "metadata": {},
     "output_type": "execute_result"
    }
   ],
   "source": [
    "def zero(f = None): return 0 if not f else f(0)\n",
    "def one(f = None): return 1 if not f else f(1)\n",
    "def two(f = None): return 2 if not f else f(2)\n",
    "def three(f = None): return 3 if not f else f(3)\n",
    "def four(f = None): return 4 if not f else f(4)\n",
    "def five(f = None): return 5 if not f else f(5)\n",
    "def six(f = None): return 6 if not f else f(6)\n",
    "def seven(f = None): return 7 if not f else f(7)\n",
    "def eight(f = None): return 8 if not f else f(8)\n",
    "def nine(f = None): return 9 if not f else f(9)\n",
    "\n",
    "def plus(y): return lambda x: x+y\n",
    "def minus(y): return lambda x: x-y\n",
    "def times(y): return lambda  x: x*y\n",
    "def divided_by(y): return lambda  x: x/y\n",
    "seven(times(five()))"
   ]
  },
  {
   "cell_type": "code",
   "execution_count": null,
   "metadata": {},
   "outputs": [
    {
     "data": {
      "text/plain": [
       "35"
      ]
     },
     "execution_count": 25,
     "metadata": {},
     "output_type": "execute_result"
    }
   ],
   "source": [
    "id_ = lambda x: x\n",
    "number = lambda x: lambda f=id_: f(x)\n",
    "zero, one, two, three, four, five, six, seven, eight, nine = map(number, range(10))\n",
    "plus = lambda x: lambda y: y + x\n",
    "minus = lambda x: lambda y: y - x\n",
    "times = lambda x: lambda y: y * x\n",
    "divided_by = lambda x: lambda y: y / x\n",
    "seven(times(five()))"
   ]
  },
  {
   "cell_type": "code",
   "execution_count": null,
   "metadata": {},
   "outputs": [
    {
     "data": {
      "text/plain": [
       "35"
      ]
     },
     "execution_count": 26,
     "metadata": {},
     "output_type": "execute_result"
    }
   ],
   "source": [
    "def number_maker(n):\n",
    "    def number(operator = None):\n",
    "        if operator:\n",
    "            return operator(n)\n",
    "        else:\n",
    "            return n\n",
    "    return number\n",
    "\n",
    "zero, one, two, three, four, five, six, seven, eight, nine = map(number_maker, range(10))\n",
    "\n",
    "def plus(b): #your code here\n",
    "   return lambda a : a + b\n",
    "def minus(b):\n",
    "    return lambda a : a - b\n",
    "def times(b):\n",
    "    return lambda a : a * b \n",
    "def divided_by(b): \n",
    "    return lambda a : a / b\n",
    "seven(times(five()))    "
   ]
  },
  {
   "cell_type": "code",
   "execution_count": null,
   "metadata": {},
   "outputs": [
    {
     "name": "stdout",
     "output_type": "stream",
     "text": [
      "['....', '.', '-.--', '', '', '.---', '..-', '-..', '.']\n"
     ]
    }
   ],
   "source": [
    "MORSE_CODE={'.-': 'A', '-...': 'B', '-.-.': 'C', '-..': 'D', '.': 'E', \n",
    "'..-.': 'F', '--.': 'G', '....': 'H', '..': 'I', '.---': 'J', '-.-': 'K',\n",
    " '.-..': 'L', '--': 'M', '-.': 'N', '---': 'O', '.--.': 'P', '--.-': 'Q', '.-.': 'R', '...': 'S', '-': 'T', '..-': 'U', '...-': 'V', \n",
    " '.--': 'W', '-..-': 'X', '-.--': 'Y', '--..': 'Z', '-----': '0', '.----': '1', '..---': '2', '...--': '3', '....-': '4', '.....': '5', '-....': '6',\n",
    "  '--...': '7', '---..': '8', '----.': '9', '.-.-.-': '.', '--..--': ',', '..--..': '?', '.----.': \"'\", '-.-.--': '!', '-..-.': '/', \n",
    "  '-.--.': '(', '-.--.-': ')', '.-...': '&', '---...': ':', '-.-.-.': ';', '-...-': '=', '.-.-.': '+', '-....-': '-', '..--.-': '_', '.-..-.': '\"',\n",
    "   '...-..-': '$', '.--.-.': '@', '...---...': 'SOS'}\n",
    "\n",
    "# print(MORSE_CODE['.'])\n",
    "def decode_morse(morse_code):\n",
    "#     split = string.split('_')  \n",
    "    \n",
    "# # joining each part by capitalizing first letter   \n",
    "# camelcase = split[0] + ''.join(word.title() for word in split[1:])  \n",
    "     \n",
    "    # print(morse_code)\n",
    "    l1=morse_code.split(' ')\n",
    "    print(l1)\n",
    "    # print(l1)\n",
    "    # l2= [ MORSE_CODE[l1[i]]  for i in range(len(l1))if l1[i] in MORSE_CODE.keys()]\n",
    "    # # return ''.join(l2)\n",
    "    # # print(l2)\n",
    "    # l3=[ l1[i]  for i in range(len(l1))if l1[i] not in MORSE_CODE.keys()]\n",
    "    # # print(l3)\n",
    "    # if l3==[]:\n",
    "    #     return \"\".join(l2)\n",
    "    # else:\n",
    "    #    return \"  \".join(l2)\n",
    "    # return [\"\".join(l2) if l3==[] else \" \".join(l2)]\n",
    "    # return [l1[i].join(l2) for i in range(len(l1))if l1[i] not in  MORSE_CODE.keys()]\n",
    "    # print(l2)\n",
    "    # print(MORSE_CODE[morse_code])\n",
    "   \n",
    "decode_morse('.... . -.--   .--- ..- -.. .')\n"
   ]
  },
  {
   "cell_type": "code",
   "execution_count": null,
   "metadata": {},
   "outputs": [
    {
     "name": "stdout",
     "output_type": "stream",
     "text": [
      "HEYJUDE"
     ]
    }
   ],
   "source": [
    "MORSE_CODE={'.-': 'A', '-...': 'B', '-.-.': 'C', '-..': 'D', '.': 'E', \n",
    "'..-.': 'F', '--.': 'G', '....': 'H', '..': 'I', '.---': 'J', '-.-': 'K',\n",
    " '.-..': 'L', '--': 'M', '-.': 'N', '---': 'O', '.--.': 'P', '--.-': 'Q', '.-.': 'R', '...': 'S', '-': 'T', '..-': 'U', '...-': 'V', \n",
    " '.--': 'W', '-..-': 'X', '-.--': 'Y', '--..': 'Z', '-----': '0', '.----': '1', '..---': '2', '...--': '3', '....-': '4', '.....': '5', '-....': '6',\n",
    "  '--...': '7', '---..': '8', '----.': '9', '.-.-.-': '.', '--..--': ',', '..--..': '?', '.----.': \"'\", '-.-.--': '!', '-..-.': '/', \n",
    "  '-.--.': '(', '-.--.-': ')', '.-...': '&', '---...': ':', '-.-.-.': ';', '-...-': '=', '.-.-.': '+', '-....-': '-', '..--.-': '_', '.-..-.': '\"',\n",
    "   '...-..-': '$', '.--.-.': '@', '...---...': 'SOS'}\n",
    "\n",
    "# print(MORSE_CODE['.'])\n",
    "def decode_morse(morse_code):\n",
    "#      return ' '.join(''.join(MORSE_CODE[i] for i in word.split(' ')) for word in morse_code.strip().split(\"   \"))\n",
    "#      return ' '.join(''.join(MORSE_CODE[letter] for letter in word.split(' ')) for word in morse_code.strip().split('   '))\n",
    "     \n",
    "   \n",
    "    # l1=morse_code.strip().split(' ')\n",
    "    # print(l1)\n",
    " \n",
    "    l1=morse_code.strip().split(\"   \")\n",
    "    # print(l1)\n",
    "    # l2=l1.split(' ')\n",
    "    # print(l2)\n",
    "    # result=[]\n",
    "    for word in morse_code.strip().split(\"   \") :\n",
    "        for i in word.split(' ') :\n",
    "            print(MORSE_CODE[i],end='')\n",
    "\n",
    "     \n",
    "            # result.append(''.join(MORSE_CODE[i] for i in word.split(' ')))\n",
    "    #     if i in MORSE_CODE:\n",
    "    #         result.append(MORSE_CODE[i])\n",
    "    #     elif i=='':\n",
    "    #         result.append(' ')\n",
    "             \n",
    "    # return ''.join(result).strip() \n",
    "     \n",
    "# decode_morse('   .   .  ')  \n",
    "decode_morse('.... . -.--   .--- ..- -.. .')\n"
   ]
  },
  {
   "cell_type": "code",
   "execution_count": null,
   "metadata": {},
   "outputs": [
    {
     "name": "stdout",
     "output_type": "stream",
     "text": [
      ".... . -.--   .--- ..- -.. .\n",
      ".... . -.-- * .--- ..- -.. .\n",
      "['....', '.', '-.--', '*', '.---', '..-', '-..', '.']\n"
     ]
    },
    {
     "data": {
      "text/plain": [
       "'HEY JUDE'"
      ]
     },
     "execution_count": 8,
     "metadata": {},
     "output_type": "execute_result"
    }
   ],
   "source": [
    "MORSE_CODE={'.-': 'A', '-...': 'B', '-.-.': 'C', '-..': 'D', '.': 'E', \n",
    "'..-.': 'F', '--.': 'G', '....': 'H', '..': 'I', '.---': 'J', '-.-': 'K',\n",
    " '.-..': 'L', '--': 'M', '-.': 'N', '---': 'O', '.--.': 'P', '--.-': 'Q', '.-.': 'R', '...': 'S', '-': 'T', '..-': 'U', '...-': 'V', \n",
    " '.--': 'W', '-..-': 'X', '-.--': 'Y', '--..': 'Z', '-----': '0', '.----': '1', '..---': '2', '...--': '3', '....-': '4', '.....': '5', '-....': '6',\n",
    "  '--...': '7', '---..': '8', '----.': '9', '.-.-.-': '.', '--..--': ',', '..--..': '?', '.----.': \"'\", '-.-.--': '!', '-..-.': '/', \n",
    "  '-.--.': '(', '-.--.-': ')', '.-...': '&', '---...': ':', '-.-.-.': ';', '-...-': '=', '.-.-.': '+', '-....-': '-', '..--.-': '_', '.-..-.': '\"',\n",
    "   '...-..-': '$', '.--.-.': '@', '...---...': 'SOS'}\n",
    "def decodeMorse(morse_code):\n",
    "    print(morse_code)\n",
    "    morseCode = morse_code.strip().replace(\"   \", \" * \")\n",
    "    print(morseCode)\n",
    "    print(morseCode.split())\n",
    "    msg = \"\"\n",
    "    for x in morseCode.split():\n",
    "        if x != \"*\":\n",
    "            msg += MORSE_CODE[x]\n",
    "        else:\n",
    "            msg += \" \"\n",
    "    \n",
    "    return msg\n",
    "decodeMorse('.... . -.--   .--- ..- -.. .')   "
   ]
  },
  {
   "cell_type": "code",
   "execution_count": null,
   "metadata": {},
   "outputs": [
    {
     "data": {
      "text/plain": [
       "'HEY JUDE'"
      ]
     },
     "execution_count": 30,
     "metadata": {},
     "output_type": "execute_result"
    }
   ],
   "source": [
    "def decodeMorse(morse_code):\n",
    "    return ' '.join(\n",
    "        ''.join(MORSE_CODE[char] for char in word.split())\n",
    "        for word in morse_code.strip().split(' ')\n",
    "    )\n",
    "decode_morse('.... . -.--   .--- ..- -.. .')    "
   ]
  },
  {
   "cell_type": "code",
   "execution_count": null,
   "metadata": {},
   "outputs": [
    {
     "data": {
      "text/plain": [
       "'HEY JUDE'"
      ]
     },
     "execution_count": 33,
     "metadata": {},
     "output_type": "execute_result"
    }
   ],
   "source": [
    "def decodeMorse(morse_code):\n",
    "    print(morse_code)\n",
    "    # morseCode = morse_code.strip().replace(\"   \", \" * \")\n",
    "    # print(morseCode)\n",
    "decode_morse('.... . -.--   .--- ..- -.. .')    "
   ]
  },
  {
   "cell_type": "code",
   "execution_count": null,
   "metadata": {},
   "outputs": [
    {
     "name": "stdout",
     "output_type": "stream",
     "text": [
      "[1, 3, 5]\n"
     ]
    },
    {
     "data": {
      "text/plain": [
       "[1, 3, 2, 8, 5, 4]"
      ]
     },
     "execution_count": 1,
     "metadata": {},
     "output_type": "execute_result"
    }
   ],
   "source": [
    "def sort_array(source_array):\n",
    "    # Return a sorted array.\n",
    "    odd = sorted([x for x in source_array if x % 2 != 0])\n",
    "    print(odd)\n",
    "    for i, x in enumerate(source_array):\n",
    "        if x % 2 != 0:\n",
    "            source_array[i] = odd.pop(0)\n",
    "    return source_array\n",
    "sort_array([5, 3, 2, 8, 1, 4])    "
   ]
  },
  {
   "cell_type": "code",
   "execution_count": null,
   "metadata": {},
   "outputs": [
    {
     "data": {
      "text/plain": [
       "[1, 3, 2, 8, 5, 4]"
      ]
     },
     "execution_count": 2,
     "metadata": {},
     "output_type": "execute_result"
    }
   ],
   "source": [
    "def sort_array(arr):\n",
    "  odds = sorted((x for x in arr if x%2 != 0), reverse=True)\n",
    "  return [x if x%2==0 else odds.pop() for x in arr]\n",
    "sort_array([5, 3, 2, 8, 1, 4])      "
   ]
  },
  {
   "cell_type": "code",
   "execution_count": null,
   "metadata": {},
   "outputs": [
    {
     "name": "stdout",
     "output_type": "stream",
     "text": [
      "2\n",
      "2\n",
      "3\n",
      "3\n",
      "4\n",
      "4\n",
      "[9, 9]\n"
     ]
    },
    {
     "data": {
      "text/plain": [
       "9"
      ]
     },
     "execution_count": 8,
     "metadata": {},
     "output_type": "execute_result"
    }
   ],
   "source": [
    "def queue_time(customers, n):\n",
    "    tills = [0] * n\n",
    "    for c in customers:\n",
    "        print(c)\n",
    "        tills[0] += c\n",
    "        tills.sort()\n",
    "      \n",
    "    return max(tills)\n",
    "queue_time([2,2,3,3,4,4], 2 )    "
   ]
  },
  {
   "cell_type": "code",
   "execution_count": null,
   "metadata": {},
   "outputs": [
    {
     "data": {
      "text/plain": [
       "9"
      ]
     },
     "execution_count": 9,
     "metadata": {},
     "output_type": "execute_result"
    }
   ],
   "source": [
    "def queue_time(customers, n):\n",
    "    l=[0]*n\n",
    "    for i in customers:\n",
    "        l[l.index(min(l))]+=i\n",
    "    return max(l)\n",
    "queue_time([2,2,3,3,4,4], 2 )    \n"
   ]
  },
  {
   "cell_type": "code",
   "execution_count": null,
   "metadata": {},
   "outputs": [
    {
     "data": {
      "text/plain": [
       "4"
      ]
     },
     "execution_count": 11,
     "metadata": {},
     "output_type": "execute_result"
    }
   ],
   "source": [
    "def find_it(seq):\n",
    "    for i in seq:\n",
    "        if seq.count(i)%2!=0:\n",
    "            return i\n",
    "find_it([1,2,2,3,3,3,4,3,3,3,2,2,1])"
   ]
  },
  {
   "cell_type": "code",
   "execution_count": null,
   "metadata": {},
   "outputs": [
    {
     "data": {
      "text/plain": [
       "4"
      ]
     },
     "execution_count": 12,
     "metadata": {},
     "output_type": "execute_result"
    }
   ],
   "source": [
    "def find_it(seq):\n",
    "    return [x for x in seq if seq.count(x) % 2][0]\n",
    "find_it([1,2,2,3,3,3,4,3,3,3,2,2,1])    "
   ]
  },
  {
   "cell_type": "code",
   "execution_count": null,
   "metadata": {},
   "outputs": [
    {
     "data": {
      "text/plain": [
       "4"
      ]
     },
     "execution_count": 13,
     "metadata": {},
     "output_type": "execute_result"
    }
   ],
   "source": [
    "def find_it(seq):\n",
    "    return [x for x in seq if seq.count(x) % 2][0]\n",
    "find_it([1,2,2,3,3,3,4,3,3,3,2,2,1])"
   ]
  },
  {
   "cell_type": "code",
   "execution_count": null,
   "metadata": {},
   "outputs": [
    {
     "name": "stdout",
     "output_type": "stream",
     "text": [
      "['is2', 'Thi1s', 'T4est', '3a']\n"
     ]
    },
    {
     "data": {
      "text/plain": [
       "'Thi1s is2 3a T4est'"
      ]
     },
     "execution_count": 5,
     "metadata": {},
     "output_type": "execute_result"
    }
   ],
   "source": [
    "def order(sentence):\n",
    "    sentences = sentence.split()\n",
    "    print(sentences)\n",
    "    result = []\n",
    "    for i in range(1,10):\n",
    "        for j in sentences:\n",
    "            if str(i) in j:\n",
    "                result.append(j)\n",
    "     \n",
    "    return \" \".join(result)\n",
    "order(\"is2 Thi1s T4est 3a\")    "
   ]
  },
  {
   "cell_type": "code",
   "execution_count": null,
   "metadata": {},
   "outputs": [
    {
     "data": {
      "text/plain": [
       "'Thi1s is2 3a T4est'"
      ]
     },
     "execution_count": 6,
     "metadata": {},
     "output_type": "execute_result"
    }
   ],
   "source": [
    "def order(words):\n",
    "  return ' '.join(sorted(words.split(), key=lambda w:sorted(w)))\n",
    "\n",
    "order(\"is2 Thi1s T4est 3a\")  \n"
   ]
  },
  {
   "cell_type": "code",
   "execution_count": null,
   "metadata": {},
   "outputs": [
    {
     "data": {
      "text/plain": [
       "2"
      ]
     },
     "execution_count": 8,
     "metadata": {},
     "output_type": "execute_result"
    }
   ],
   "source": [
    "def count_smileys(arr):\n",
    "    count=0\n",
    "    for i in arr:\n",
    "        if len(i)==2:\n",
    "            if i[0] in [':',';'] and i[1] in [')','D']:\n",
    "                count+=1\n",
    "        elif len(i)==3:\n",
    "            if i[0] in [':',';'] and i[1] in ['-','~'] and i[2] in [')','D']:\n",
    "                count+=1\n",
    "    return count           \n",
    "count_smileys([':)', ';(', ';}', ':-D'])                \n",
    "    # simleyface=[':',')',\":\", \"D\",\";\",\"-\",\"D\",\":\",\"~\"  ]\n",
    "    # notsimileyface=[':','(',';','-','~']"
   ]
  },
  {
   "cell_type": "code",
   "execution_count": null,
   "metadata": {},
   "outputs": [
    {
     "data": {
      "text/plain": [
       "2"
      ]
     },
     "execution_count": 11,
     "metadata": {},
     "output_type": "execute_result"
    }
   ],
   "source": [
    "def count_smileys(arr):\n",
    "    eyes = [\":\", \";\"]\n",
    "    noses = [\"\", \"-\", \"~\"]\n",
    "    mouths = [\")\", \"D\"]\n",
    "    count = 0\n",
    "    for eye in eyes:\n",
    "        for nose in noses:\n",
    "            for mouth in mouths:\n",
    "                face = eye + nose + mouth\n",
    "                count += arr.count(face)\n",
    "    return count\n",
    "count_smileys([':)', ';(', ';}', ':-D'])       "
   ]
  },
  {
   "cell_type": "code",
   "execution_count": null,
   "metadata": {},
   "outputs": [
    {
     "data": {
      "text/plain": [
       "2"
      ]
     },
     "execution_count": 10,
     "metadata": {},
     "output_type": "execute_result"
    }
   ],
   "source": [
    "def count_smileys(arr):\n",
    "    return (\n",
    "        sum(\n",
    "            1 \n",
    "            for i in arr \n",
    "            if len(i)==2 and i[0] in [':',';'] and i[1] in [')','D']\n",
    "            )\n",
    "        +\n",
    "        sum(\n",
    "            1\n",
    "             for i in arr  if len(i)==3 and  i[0] in [':',';'] and i[1] in ['-','~'] and i[2] in [')','D'] \n",
    "            )\n",
    "             )\n",
    "count_smileys([':)', ';(', ';}', ':-D'])\n",
    "    # return sum(1 for x in arr if re.search(r'^[:;][-~]?[)D]$', x))"
   ]
  },
  {
   "cell_type": "code",
   "execution_count": null,
   "metadata": {},
   "outputs": [
    {
     "data": {
      "text/plain": [
       "2"
      ]
     },
     "execution_count": 9,
     "metadata": {},
     "output_type": "execute_result"
    }
   ],
   "source": [
    "def count_smileys(arr):\n",
    "    return sum(1 for x in arr if len(x) in [2,3] and x[0] in ':;' and x[1] in '-~)' and (len(x)==2 or x[2] in ')D'))\n",
    "count_smileys([':)', ';(', ';}', ':-D'])    "
   ]
  },
  {
   "cell_type": "code",
   "execution_count": null,
   "metadata": {},
   "outputs": [
    {
     "name": "stdout",
     "output_type": "stream",
     "text": [
      "length fo string : 2\n"
     ]
    },
    {
     "data": {
      "text/plain": [
       "'40 + 2'"
      ]
     },
     "execution_count": 25,
     "metadata": {},
     "output_type": "execute_result"
    }
   ],
   "source": [
    "def expanded_form(num):\n",
    "    result=[]\n",
    "    print(\"length fo string :\",len(str(num)))\n",
    "    for i in range(len(str(num))):\n",
    "        # print(\"i :\",i)\n",
    "        # print(str(num)[i])\n",
    "        if int(str(num)[i])!=0:\n",
    "            result.append(str(num)[i]+\"0\"*(len(str(num))-i-1))\n",
    "                                            # 2 - 0 - 1 = 1\n",
    "                                            # 2 - 1 - 1 = 0  \n",
    "    return \" + \".join(result)\n",
    "\n",
    "    \n",
    "expanded_form(42)    "
   ]
  },
  {
   "cell_type": "code",
   "execution_count": null,
   "metadata": {},
   "outputs": [
    {
     "data": {
      "text/plain": [
       "'40 + 2'"
      ]
     },
     "execution_count": 26,
     "metadata": {},
     "output_type": "execute_result"
    }
   ],
   "source": [
    "def expanded_form(num):\n",
    "    num = list(str(num))\n",
    "    return ' + '.join(x + '0' * (len(num) - y - 1) for y,x in enumerate(num) if x != '0') \n",
    "\n",
    "expanded_form(42)  "
   ]
  },
  {
   "cell_type": "code",
   "execution_count": 9,
   "metadata": {},
   "outputs": [
    {
     "name": "stdout",
     "output_type": "stream",
     "text": [
      "0\n"
     ]
    }
   ],
   "source": [
    "# The pow() function returns the value of x to the power of y (x**y).\n",
    "# If a third parameter is present, it returns x to the power of y, modulus z.\n",
    "# x\tA number, the base\n",
    "# y\tA number, the exponent\n",
    "# z\tOptional. A number, the modulus\n",
    "# pow(x, y, z)\n",
    "# Parameters : \n",
    "\n",
    "# x : Number whose power has to be calculated.\n",
    "# y : Value raised to compute power.\n",
    "# mod [optional]: if provided, performs modulus of mod on the result of x**y (i.e.: x**y % mod)\n",
    "# Return Value :  Returns the value x**y in float or int (depending upon input operands or 2nd argument).\n",
    "def last_digit(n1, n2):\n",
    "\n",
    "     \n",
    "    if n2 == 0:\n",
    "        return 1\n",
    "    else:\n",
    "        print(pow(n1,n2,10))\n",
    "        # print(n1 ** (n2 % 4 + 4) % 10 )  \n",
    "   \n",
    "\n",
    "        # return n1 ** n2\n",
    "        # return n1 ** (n2 % 4 + 4) % 10\n",
    "\n",
    "# last_digit(4, 1)                # returns 4\n",
    "# last_digit(4, 2)                # returns 6\n",
    "# last_digit(9, 7)                # returns 9\n",
    "last_digit(10, 10 ** 10)        # returns 0\n",
    "# last_digit(2 ** 200, 2 ** 300)  # returns 6    "
   ]
  },
  {
   "cell_type": "code",
   "execution_count": 5,
   "metadata": {},
   "outputs": [
    {
     "name": "stdout",
     "output_type": "stream",
     "text": [
      "6\n"
     ]
    }
   ],
   "source": [
    "def last_digit(n1, n2):\n",
    "\n",
    "    return ( 1 if n2 == 0 else   pow(n1,n2,10) )\n",
    "    \n",
    "    \n",
    "\n",
    "# last_digit(4, 1)                # returns 4\n",
    "# last_digit(4, 2)                # returns 6\n",
    "# last_digit(9, 7)                # returns 9\n",
    "last_digit(10, 10 ** 10)        # returns 0\n",
    "# last_digit(2 ** 200, 2 ** 300)  # returns 6    "
   ]
  },
  {
   "cell_type": "code",
   "execution_count": null,
   "metadata": {},
   "outputs": [],
   "source": [
    "def last_digit(n1, n2):\n",
    "    l1=[]\n",
    "    if n2 == 0:\n",
    "        return 1\n",
    "    else:\n",
    "        l1.append(n1 ** n2)\n",
    "    print(l1[-1] % 10 )  \n",
    "    # % 10    \n",
    "\n",
    "        # return n1 ** n2\n",
    "        # return n1 ** (n2 % 4 + 4) % 10\n",
    "\n",
    "last_digit(4, 1)                # returns 4\n",
    "last_digit(4, 2) "
   ]
  },
  {
   "cell_type": "code",
   "execution_count": 2,
   "metadata": {},
   "outputs": [
    {
     "name": "stdout",
     "output_type": "stream",
     "text": [
      "Requirement already satisfied: ipykernel in c:\\users\\mudassir raza\\appdata\\roaming\\python\\python310\\site-packages (6.16.0)Note: you may need to restart the kernel to use updated packages.\n"
     ]
    },
    {
     "name": "stderr",
     "output_type": "stream",
     "text": [
      "\n",
      "[notice] A new release of pip available: 22.3 -> 22.3.1\n",
      "[notice] To update, run: python.exe -m pip install --upgrade pip\n"
     ]
    },
    {
     "name": "stdout",
     "output_type": "stream",
     "text": [
      "\n",
      "Collecting ipykernel\n",
      "  Downloading ipykernel-6.17.1-py3-none-any.whl (138 kB)\n",
      "     ------------------------------------ 138.6/138.6 kB 682.5 kB/s eta 0:00:00\n",
      "Requirement already satisfied: pyzmq>=17 in c:\\users\\mudassir raza\\appdata\\roaming\\python\\python310\\site-packages (from ipykernel) (24.0.1)\n",
      "Requirement already satisfied: packaging in c:\\users\\mudassir raza\\appdata\\roaming\\python\\python310\\site-packages (from ipykernel) (21.3)\n",
      "Requirement already satisfied: nest-asyncio in c:\\users\\mudassir raza\\appdata\\roaming\\python\\python310\\site-packages (from ipykernel) (1.5.6)\n",
      "Requirement already satisfied: ipython>=7.23.1 in c:\\users\\mudassir raza\\appdata\\roaming\\python\\python310\\site-packages (from ipykernel) (8.5.0)\n",
      "Requirement already satisfied: jupyter-client>=6.1.12 in c:\\users\\mudassir raza\\appdata\\roaming\\python\\python310\\site-packages (from ipykernel) (7.4.1)\n",
      "Requirement already satisfied: matplotlib-inline>=0.1 in c:\\users\\mudassir raza\\appdata\\roaming\\python\\python310\\site-packages (from ipykernel) (0.1.6)\n",
      "Requirement already satisfied: psutil in c:\\users\\mudassir raza\\appdata\\roaming\\python\\python310\\site-packages (from ipykernel) (5.9.2)\n",
      "Requirement already satisfied: traitlets>=5.1.0 in c:\\users\\mudassir raza\\appdata\\roaming\\python\\python310\\site-packages (from ipykernel) (5.4.0)\n",
      "Requirement already satisfied: debugpy>=1.0 in c:\\users\\mudassir raza\\appdata\\roaming\\python\\python310\\site-packages (from ipykernel) (1.6.3)\n",
      "Requirement already satisfied: tornado>=6.1 in c:\\users\\mudassir raza\\appdata\\roaming\\python\\python310\\site-packages (from ipykernel) (6.2)\n",
      "Requirement already satisfied: pygments>=2.4.0 in c:\\users\\mudassir raza\\appdata\\roaming\\python\\python310\\site-packages (from ipython>=7.23.1->ipykernel) (2.13.0)\n",
      "Requirement already satisfied: decorator in c:\\users\\mudassir raza\\appdata\\roaming\\python\\python310\\site-packages (from ipython>=7.23.1->ipykernel) (5.1.1)\n",
      "Requirement already satisfied: colorama in c:\\users\\mudassir raza\\appdata\\roaming\\python\\python310\\site-packages (from ipython>=7.23.1->ipykernel) (0.4.5)\n",
      "Requirement already satisfied: pickleshare in c:\\users\\mudassir raza\\appdata\\roaming\\python\\python310\\site-packages (from ipython>=7.23.1->ipykernel) (0.7.5)\n",
      "Requirement already satisfied: prompt-toolkit<3.1.0,>3.0.1 in c:\\users\\mudassir raza\\appdata\\roaming\\python\\python310\\site-packages (from ipython>=7.23.1->ipykernel) (3.0.31)\n",
      "Requirement already satisfied: backcall in c:\\users\\mudassir raza\\appdata\\roaming\\python\\python310\\site-packages (from ipython>=7.23.1->ipykernel) (0.2.0)\n",
      "Requirement already satisfied: jedi>=0.16 in c:\\users\\mudassir raza\\appdata\\roaming\\python\\python310\\site-packages (from ipython>=7.23.1->ipykernel) (0.18.1)\n",
      "Requirement already satisfied: stack-data in c:\\users\\mudassir raza\\appdata\\roaming\\python\\python310\\site-packages (from ipython>=7.23.1->ipykernel) (0.5.1)\n",
      "Requirement already satisfied: python-dateutil>=2.8.2 in c:\\users\\mudassir raza\\appdata\\roaming\\python\\python310\\site-packages (from jupyter-client>=6.1.12->ipykernel) (2.8.2)\n",
      "Requirement already satisfied: entrypoints in c:\\users\\mudassir raza\\appdata\\roaming\\python\\python310\\site-packages (from jupyter-client>=6.1.12->ipykernel) (0.4)\n",
      "Requirement already satisfied: jupyter-core>=4.9.2 in c:\\users\\mudassir raza\\appdata\\roaming\\python\\python310\\site-packages (from jupyter-client>=6.1.12->ipykernel) (4.11.1)\n",
      "Requirement already satisfied: pyparsing!=3.0.5,>=2.0.2 in c:\\users\\mudassir raza\\appdata\\roaming\\python\\python310\\site-packages (from packaging->ipykernel) (3.0.9)\n",
      "Requirement already satisfied: parso<0.9.0,>=0.8.0 in c:\\users\\mudassir raza\\appdata\\roaming\\python\\python310\\site-packages (from jedi>=0.16->ipython>=7.23.1->ipykernel) (0.8.3)\n",
      "Requirement already satisfied: pywin32>=1.0 in c:\\users\\mudassir raza\\appdata\\roaming\\python\\python310\\site-packages (from jupyter-core>=4.9.2->jupyter-client>=6.1.12->ipykernel) (304)\n",
      "Requirement already satisfied: wcwidth in c:\\users\\mudassir raza\\appdata\\roaming\\python\\python310\\site-packages (from prompt-toolkit<3.1.0,>3.0.1->ipython>=7.23.1->ipykernel) (0.2.5)\n",
      "Requirement already satisfied: six>=1.5 in c:\\users\\mudassir raza\\appdata\\roaming\\python\\python310\\site-packages (from python-dateutil>=2.8.2->jupyter-client>=6.1.12->ipykernel) (1.16.0)\n",
      "Requirement already satisfied: executing in c:\\users\\mudassir raza\\appdata\\roaming\\python\\python310\\site-packages (from stack-data->ipython>=7.23.1->ipykernel) (1.1.1)\n",
      "Requirement already satisfied: asttokens in c:\\users\\mudassir raza\\appdata\\roaming\\python\\python310\\site-packages (from stack-data->ipython>=7.23.1->ipykernel) (2.0.8)\n",
      "Requirement already satisfied: pure-eval in c:\\users\\mudassir raza\\appdata\\roaming\\python\\python310\\site-packages (from stack-data->ipython>=7.23.1->ipykernel) (0.2.2)\n",
      "Installing collected packages: ipykernel\n",
      "  Attempting uninstall: ipykernel\n",
      "    Found existing installation: ipykernel 6.16.0\n",
      "    Uninstalling ipykernel-6.16.0:\n",
      "      Successfully uninstalled ipykernel-6.16.0\n",
      "Successfully installed ipykernel-6.17.1\n"
     ]
    }
   ],
   "source": [
    "# !pip install -U ipykernel"
   ]
  },
  {
   "cell_type": "code",
   "execution_count": 20,
   "metadata": {},
   "outputs": [
    {
     "name": "stdout",
     "output_type": "stream",
     "text": [
      "<itertools.combinations object at 0x000001EC7D32DCB0>\n",
      "230\n"
     ]
    }
   ],
   "source": [
    "from itertools import combinations\n",
    "xs = [100, 76, 56, 44, 89, 73, 68, 56, 64, 123, 2333, 144, 50, 132, 123, 34, 89]    \n",
    "def choose_best_sum(t, k, ls):\n",
    "    max_sum_dist=t\n",
    "    number_town_vist=k\n",
    "    list_of_distnces=ls\n",
    "    comparing=combinations(list_of_distnces,number_town_vist)\n",
    "    max_dis=[]\n",
    "    print(comparing)\n",
    "    for i in list(comparing):\n",
    "        # print(i)\n",
    "        if sum(i) <= t:\n",
    "            max_dis.append(sum(i))\n",
    "    print(max(max_dis))    \n",
    "\n",
    "            # print(\"These towns \",i,\"have require distance\",sum(i))\n",
    "\n",
    "choose_best_sum(230, 4, xs)\n",
    "# A Python program to print all \n",
    "# combinations of given length\n",
    "# from itertools import combinations\n",
    "  \n",
    "# # Get all combinations of [1, 2, 3]\n",
    "# # and length 2\n",
    "# comb = combinations([1, 2, 3], 2)\n",
    "  \n",
    "# # Print the obtained combinations\n",
    "# for i in list(comb):\n",
    "#     print (i)\n"
   ]
  },
  {
   "cell_type": "code",
   "execution_count": 17,
   "metadata": {},
   "outputs": [
    {
     "name": "stdout",
     "output_type": "stream",
     "text": [
      "<itertools.combinations object at 0x000001EC7D0E77E0>\n",
      "These towns  (100, 89, 68, 123, 50) have require distance 430\n",
      "These towns  (100, 89, 68, 50, 123) have require distance 430\n",
      "These towns  (100, 68, 123, 50, 89) have require distance 430\n",
      "These towns  (100, 68, 50, 123, 89) have require distance 430\n",
      "These towns  (100, 123, 50, 123, 34) have require distance 430\n",
      "These towns  (76, 44, 89, 132, 89) have require distance 430\n",
      "These towns  (76, 44, 64, 123, 123) have require distance 430\n",
      "These towns  (76, 44, 144, 132, 34) have require distance 430\n",
      "These towns  (56, 89, 73, 68, 144) have require distance 430\n",
      "These towns  (56, 89, 73, 123, 89) have require distance 430\n",
      "These towns  (56, 89, 73, 123, 89) have require distance 430\n",
      "These towns  (56, 89, 64, 132, 89) have require distance 430\n",
      "These towns  (56, 73, 68, 144, 89) have require distance 430\n",
      "These towns  (56, 73, 123, 144, 34) have require distance 430\n",
      "These towns  (56, 73, 144, 123, 34) have require distance 430\n",
      "These towns  (56, 64, 144, 132, 34) have require distance 430\n",
      "These towns  (44, 89, 64, 144, 89) have require distance 430\n",
      "These towns  (89, 73, 68, 56, 144) have require distance 430\n",
      "These towns  (89, 73, 56, 123, 89) have require distance 430\n",
      "These towns  (89, 73, 56, 123, 89) have require distance 430\n",
      "These towns  (89, 56, 64, 132, 89) have require distance 430\n",
      "These towns  (73, 68, 56, 144, 89) have require distance 430\n",
      "These towns  (73, 68, 123, 132, 34) have require distance 430\n",
      "These towns  (73, 68, 132, 123, 34) have require distance 430\n",
      "These towns  (73, 56, 123, 144, 34) have require distance 430\n",
      "These towns  (73, 56, 144, 123, 34) have require distance 430\n",
      "These towns  (56, 64, 144, 132, 34) have require distance 430\n"
     ]
    }
   ],
   "source": [
    "choose_best_sum(430, 5, xs)"
   ]
  },
  {
   "cell_type": "code",
   "execution_count": 18,
   "metadata": {},
   "outputs": [
    {
     "name": "stdout",
     "output_type": "stream",
     "text": [
      "230\n"
     ]
    }
   ],
   "source": [
    "from itertools import combinations\n",
    "\n",
    "def choose_best_sum(t, k, ls):\n",
    "\n",
    "    city_combos = set(combinations(ls, k))\n",
    "    distances = []\n",
    "    for combo in city_combos:\n",
    "        if sum(combo) <= t:\n",
    "            distances.append(sum(combo))\n",
    "    return max(distances) if distances else None\n",
    "\n",
    "\n",
    "\n",
    "\n",
    "\n",
    "\n",
    "xs = [100, 76, 56, 44, 89, 73, 68, 56, 64, 123, 2333, 144, 50, 132, 123, 34, 89]\n",
    "print(choose_best_sum(230, 4, xs))"
   ]
  },
  {
   "cell_type": "code",
   "execution_count": 24,
   "metadata": {},
   "outputs": [
    {
     "name": "stdout",
     "output_type": "stream",
     "text": [
      "<itertools.combinations object at 0x000001EC7CCFA6B0>\n",
      "None\n"
     ]
    }
   ],
   "source": [
    "from itertools import combinations\n",
    "xs = [100, 76, 56, 44, 89, 73, 68, 56, 64, 123, 2333, 144, 50, 132, 123, 34, 89   ]\n",
    "def choose_best_sum(t, k, ls):\n",
    "    max_sum_dist=t\n",
    "    number_town_vist=k\n",
    "    list_of_distnces=ls\n",
    "    comparing=combinations(list_of_distnces,number_town_vist)\n",
    "    max_dis=[]\n",
    "    print(comparing)\n",
    "    for i in list(comparing):\n",
    "        # print(i)\n",
    "        if sum(i) <= t:\n",
    "            max_dis.append(sum(i))\n",
    "    if  len(max_dis)  !=0:\n",
    "        return max(max_dis)\n",
    "    else:\n",
    "        return None\n",
    "    # return max(max_dis)  \n",
    "\n",
    "print(choose_best_sum(230, 4, xs)) \n",
    "# "
   ]
  },
  {
   "cell_type": "code",
   "execution_count": 26,
   "metadata": {},
   "outputs": [
    {
     "name": "stdout",
     "output_type": "stream",
     "text": [
      "<itertools.combinations object at 0x000001EC7DADE110>\n",
      "None\n"
     ]
    }
   ],
   "source": [
    "from itertools import combinations\n",
    "xs = [100, 76, 56, 44, 89, 73, 68, 56, 64, 123, 2333, 144, 50, 132, 123, 34, 89   ]\n",
    "def choose_best_sum(t, k, ls):\n",
    "    max_sum_dist=t\n",
    "    number_town_vist=k\n",
    "    list_of_distnces=ls\n",
    "    comparing=combinations(list_of_distnces,number_town_vist)\n",
    "    max_dis=[]\n",
    "    print(comparing)\n",
    "    for i in list(comparing):\n",
    "        # print(i)\n",
    "        if sum(i) <= t:\n",
    "            max_dis.append(sum(i))\n",
    "    # if  len(max_dis)  !=0:\n",
    "    #     return max(max_dis)\n",
    "    # else:\n",
    "    #     return None\n",
    "    return max(max_dis)  if max_dis else None\n",
    "\n",
    "print(choose_best_sum(230, 4, xs)) \n",
    "# "
   ]
  },
  {
   "cell_type": "code",
   "execution_count": 28,
   "metadata": {},
   "outputs": [
    {
     "name": "stdout",
     "output_type": "stream",
     "text": [
      "230\n"
     ]
    }
   ],
   "source": [
    "import itertools\n",
    "xs = [100, 76, 56, 44, 89, 73, 68, 56, 64, 123, 2333, 144, 50, 132, 123, 34, 89   ]\n",
    "def choose_best_sum(t, k, ls):\n",
    "    try: \n",
    "        return max(sum(i) for i in itertools.combinations(ls,k) if sum(i)<=t)\n",
    "    except:\n",
    "        return None\n",
    "print(choose_best_sum(230, 4, xs))         "
   ]
  },
  {
   "cell_type": "code",
   "execution_count": 29,
   "metadata": {},
   "outputs": [
    {
     "name": "stdout",
     "output_type": "stream",
     "text": [
      "230\n"
     ]
    }
   ],
   "source": [
    "from itertools import combinations\n",
    "xs = [100, 76, 56, 44, 89, 73, 68, 56, 64, 123, 2333, 144, 50, 132, 123, 34, 89   ]\n",
    "def choose_best_sum(t, k, ls):\n",
    "    return max((s for s in (sum(dists) for dists in combinations(ls, k)) if s <= t), default=None)\n",
    "print(choose_best_sum(230, 4, xs))     "
   ]
  },
  {
   "cell_type": "code",
   "execution_count": 30,
   "metadata": {},
   "outputs": [
    {
     "name": "stdout",
     "output_type": "stream",
     "text": [
      "230\n"
     ]
    }
   ],
   "source": [
    "from itertools import combinations\n",
    "xs = [100, 76, 56, 44, 89, 73, 68, 56, 64, 123, 2333, 144, 50, 132, 123, 34, 89   ]\n",
    "def choose_best_sum(t, k, ls):\n",
    "    return max((sum(v) for v in combinations(ls,k) if sum(v)<=t), default=None)\n",
    "print(choose_best_sum(230, 4, xs))     "
   ]
  },
  {
   "cell_type": "code",
   "execution_count": 37,
   "metadata": {},
   "outputs": [
    {
     "name": "stdout",
     "output_type": "stream",
     "text": [
      "1 greater 1\n",
      "1 greater 1\n",
      "1 greater 1\n",
      "1 greater 1\n",
      "1 greater 1\n"
     ]
    }
   ],
   "source": [
    "def scramble(s1, s2):\n",
    "    # print(s1)\n",
    "    # print(s2)\n",
    "    for c in set(s2): \n",
    "        # print(c)\n",
    "        if s1.count(c) < s2.count(c):\n",
    "            print(s1.count(c),\"less\",s2.count(c))\n",
    "        else:\n",
    "             print(s1.count(c),\"greater\",s2.count(c))   \n",
    "    #         return False\n",
    "    # return True\n",
    "scramble('rkqodlw', 'world')   "
   ]
  },
  {
   "cell_type": "code",
   "execution_count": 38,
   "metadata": {},
   "outputs": [],
   "source": [
    "# import codewars_test as test\n",
    "# from solution import scramble\n",
    "\n",
    "\n",
    "# def dotest(s1, s2, expected):\n",
    "#     actual = scramble(s1, s2)\n",
    "#     test.assert_equals(actual, expected, f\"With\\ns1 = \\\"{s1}\\\"\\ns2 = \\\"{s2}\\\"\")\n",
    "\n",
    "\n",
    "# @test.describe(\"Tests\")\n",
    "# def test_group():\n",
    "    \n",
    "#     @test.it(\"Sample tests\")\n",
    "#     def test_case():\n",
    "#         for s1, s2, expected in [\n",
    "#             ('rkqodlw', 'world', True),\n",
    "#             ('cedewaraaossoqqyt', 'codewars', True),\n",
    "#             ('katas', 'steak', False),\n",
    "#             ('scriptjava', 'javascript', True),\n",
    "#             ('scriptingjava', 'javascript', True)\n",
    "#         ]:\n",
    "#             dotest(s1, s2, expected)\n",
    "            \n",
    "#     @test.it(\"Example large test\")\n",
    "#     def large_test():\n",
    "#         s1 = \"abcdefghijklmnopqrstuvwxyz\" * 10_000\n",
    "#         s2 = \"zyxcba\" * 9_000\n",
    "#         dotest(s1, s2, True)"
   ]
  },
  {
   "cell_type": "code",
   "execution_count": 41,
   "metadata": {},
   "outputs": [
    {
     "ename": "AttributeError",
     "evalue": "module 'random' has no attribute 'range'",
     "output_type": "error",
     "traceback": [
      "\u001b[1;31m---------------------------------------------------------------------------\u001b[0m",
      "\u001b[1;31mAttributeError\u001b[0m                            Traceback (most recent call last)",
      "Cell \u001b[1;32mIn [41], line 6\u001b[0m\n\u001b[0;32m      3\u001b[0m     number\u001b[39m=\u001b[39mrandom\u001b[39m.\u001b[39mrange(m,n,g)\n\u001b[0;32m      5\u001b[0m     \u001b[39mreturn\u001b[39;00m number\n\u001b[1;32m----> 6\u001b[0m gap(\u001b[39m2\u001b[39;49m,\u001b[39m100\u001b[39;49m,\u001b[39m110\u001b[39;49m)\n",
      "Cell \u001b[1;32mIn [41], line 3\u001b[0m, in \u001b[0;36mgap\u001b[1;34m(g, m, n)\u001b[0m\n\u001b[0;32m      2\u001b[0m \u001b[39mdef\u001b[39;00m \u001b[39mgap\u001b[39m(g, m, n):\n\u001b[1;32m----> 3\u001b[0m     number\u001b[39m=\u001b[39mrandom\u001b[39m.\u001b[39;49mrange(m,n,g)\n\u001b[0;32m      5\u001b[0m     \u001b[39mreturn\u001b[39;00m number\n",
      "\u001b[1;31mAttributeError\u001b[0m: module 'random' has no attribute 'range'"
     ]
    }
   ],
   "source": [
    "import random\n",
    "def gap(g, m, n):\n",
    "    number=random.range(m,n,g)\n",
    "\n",
    "    return number\n",
    "gap(2,100,110)     "
   ]
  },
  {
   "cell_type": "code",
   "execution_count": 42,
   "metadata": {},
   "outputs": [
    {
     "data": {
      "text/plain": [
       "[101, 103]"
      ]
     },
     "execution_count": 42,
     "metadata": {},
     "output_type": "execute_result"
    }
   ],
   "source": [
    "def gap(g, m, n):\n",
    "    previous_prime = n\n",
    "    for i in range(m, n + 1):\n",
    "        if is_prime(i):\n",
    "            if i - previous_prime == g: \n",
    "                return [previous_prime, i]\n",
    "            previous_prime = i\n",
    "    return None\n",
    "\n",
    "\n",
    "def is_prime(n):\n",
    "    for i in range(2, int(n**.5 + 1)):\n",
    "        if n % i == 0:\n",
    "            return False\n",
    "    return True\n",
    "\n",
    "gap(2,100,110)    "
   ]
  },
  {
   "cell_type": "code",
   "execution_count": 43,
   "metadata": {},
   "outputs": [
    {
     "data": {
      "text/plain": [
       "[101, 103]"
      ]
     },
     "execution_count": 43,
     "metadata": {},
     "output_type": "execute_result"
    }
   ],
   "source": [
    "def gap(g, m, n):\n",
    "    prev = 2\n",
    "    for x in range(m|1, n + 1, 2):\n",
    "        if all(x%d for d in range(3, int(x**.5) + 1, 2)):\n",
    "            if x - prev == g: return [prev, x]\n",
    "            prev = x\n",
    "gap(2,100,110)             "
   ]
  },
  {
   "cell_type": "code",
   "execution_count": 44,
   "metadata": {},
   "outputs": [
    {
     "name": "stdout",
     "output_type": "stream",
     "text": [
      "ABC\n",
      "ACB\n",
      "BAC\n",
      "BCA\n",
      "CAB\n",
      "CBA\n"
     ]
    }
   ],
   "source": [
    "# Function to find permutations of a given string\n",
    "from itertools import permutations\n",
    " \n",
    "def allPermutations(str):\n",
    "      \n",
    "     # Get all permutations of string 'ABC'\n",
    "     permList = permutations(str)\n",
    " \n",
    "     # print all permutations\n",
    "     for perm in list(permList):\n",
    "         print (''.join(perm))\n",
    "       \n",
    "# Driver program\n",
    "if __name__ == \"__main__\":\n",
    "    str = 'ABC'\n",
    "    allPermutations(str)"
   ]
  },
  {
   "cell_type": "code",
   "execution_count": 37,
   "metadata": {},
   "outputs": [
    {
     "name": "stdout",
     "output_type": "stream",
     "text": [
      "{'ab'}\n"
     ]
    },
    {
     "data": {
      "text/plain": [
       "set()"
      ]
     },
     "execution_count": 37,
     "metadata": {},
     "output_type": "execute_result"
    }
   ],
   "source": [
    "from itertools import permutations\n",
    "def permutations1(s):\n",
    "    result1=set([s])\n",
    "    print(result1)\n",
    "    result=[]\n",
    "    result1=set(result)\n",
    "    permutationslist=permutations(s)\n",
    "    for perm in list(permutationslist):\n",
    "        result.append(''.join(perm))\n",
    "    return result1\n",
    "    #     result.append(''.join(perm))\n",
    "    # return result    \n",
    "    # print(result)    \n",
    "        # print(''.join(perm).split(' '))\n",
    "        # prin\n",
    "#         print(''.join(perm))\n",
    "\n",
    "permutations1('ab')        "
   ]
  },
  {
   "cell_type": "code",
   "execution_count": 9,
   "metadata": {},
   "outputs": [
    {
     "data": {
      "text/plain": [
       "['aa']"
      ]
     },
     "execution_count": 9,
     "metadata": {},
     "output_type": "execute_result"
    }
   ],
   "source": [
    "def permutations1(string):\n",
    "    result = set([string])\n",
    "    # print(result)\n",
    "    if len(string) == 2:\n",
    "        result.add(string[1] + string[0])\n",
    "\n",
    "    elif len(string) > 2:\n",
    "        for i, c in enumerate(string):\n",
    "            for s in permutations(string[:i] + string[i + 1:]):\n",
    "                result.add(c + s)\n",
    "\n",
    "    return list(result)\n",
    "permutations1('aa')     "
   ]
  },
  {
   "cell_type": "code",
   "execution_count": 10,
   "metadata": {},
   "outputs": [
    {
     "data": {
      "text/plain": [
       "['aa']"
      ]
     },
     "execution_count": 10,
     "metadata": {},
     "output_type": "execute_result"
    }
   ],
   "source": [
    "import itertools\n",
    "\n",
    "def permutations1(string):\n",
    "    return list(\"\".join(p) for p in set(itertools.permutations(string)))\n",
    "permutations1('aa')    "
   ]
  },
  {
   "cell_type": "code",
   "execution_count": 11,
   "metadata": {},
   "outputs": [
    {
     "data": {
      "text/plain": [
       "['baba', 'aabb', 'baab', 'abba', 'bbaa', 'abab']"
      ]
     },
     "execution_count": 11,
     "metadata": {},
     "output_type": "execute_result"
    }
   ],
   "source": [
    "from itertools import permutations\n",
    "def permutations1(s):\n",
    "    result=[]\n",
    "    for perm in set(permutations(s)):\n",
    "        # print(perm)\n",
    "        result.append(''.join(perm))\n",
    "        \n",
    "    return result\n",
    "    \n",
    "\n",
    "permutations1('aabb')        "
   ]
  },
  {
   "cell_type": "code",
   "execution_count": 13,
   "metadata": {},
   "outputs": [
    {
     "data": {
      "text/plain": [
       "'2'"
      ]
     },
     "execution_count": 13,
     "metadata": {},
     "output_type": "execute_result"
    }
   ],
   "source": [
    "def sum_strings(x, y):\n",
    "    \n",
    "    return str(int(x)+int(y))\n",
    "\n",
    "sum_strings(\"1\", \"1\")    "
   ]
  },
  {
   "cell_type": "code",
   "execution_count": 19,
   "metadata": {},
   "outputs": [
    {
     "data": {
      "text/plain": [
       "'579'"
      ]
     },
     "execution_count": 19,
     "metadata": {},
     "output_type": "execute_result"
    }
   ],
   "source": [
    "def sum_strings(x, y):\n",
    "   if x ==\"\" and y ==\"\":\n",
    "      return str(0)\n",
    "      if x == \"\":\n",
    "      return y\n",
    "   elif y == \"\":\n",
    "      return x\n",
    "   else:\n",
    "      return str(int(x)+int(y)) \n",
    "        \n",
    "sum_strings(\"123\", \"456\")         \n",
    "  \n",
    " \n",
    "\n",
    "#  return str(0) if x ==\"\" and y ==\"\"  else str(int(x)+int(y))  "
   ]
  },
  {
   "cell_type": "code",
   "execution_count": 5,
   "metadata": {},
   "outputs": [
    {
     "data": {
      "text/plain": [
       "'579'"
      ]
     },
     "execution_count": 5,
     "metadata": {},
     "output_type": "execute_result"
    }
   ],
   "source": [
    "def sum_strings(x, y):\n",
    "    if x ==\"\" and y !=\"\":\n",
    "        return y\n",
    "    elif y ==\"\" and x !=\"\":\n",
    "        return x\n",
    "    else:\n",
    "        return str(0) if x ==\"\" and y ==\"\"    else str(int(x)+int(y))    \n",
    "          \n",
    "        \n",
    "    \n",
    "\n",
    "sum_strings(\"123\", \"456\") \n"
   ]
  },
  {
   "cell_type": "code",
   "execution_count": 6,
   "metadata": {},
   "outputs": [
    {
     "data": {
      "text/plain": [
       "'579'"
      ]
     },
     "execution_count": 6,
     "metadata": {},
     "output_type": "execute_result"
    }
   ],
   "source": [
    "def sum_strings(x, y):\n",
    "    return str(int(x)+int(y)) if x !=\"\" and y !=\"\" else x if x !=\"\" and y ==\"\" else y if x ==\"\" and y !=\"\" else str(0) if x ==\"\" and y ==\"\" else \"error\"\n",
    "    # return str(0) if x ==\"\" and y ==\"\"    else str(int(x)+int(y))\n",
    "sum_strings(\"123\", \"456\")\n",
    " "
   ]
  },
  {
   "cell_type": "code",
   "execution_count": 7,
   "metadata": {},
   "outputs": [
    {
     "data": {
      "text/plain": [
       "'579'"
      ]
     },
     "execution_count": 7,
     "metadata": {},
     "output_type": "execute_result"
    }
   ],
   "source": [
    "def sum_strings(x,y):\n",
    "    if x ==\"\" and y ==\"\":\n",
    "        return str(0)\n",
    "    else:\n",
    "        return str(int(x)+int(y)) if x !=\"\" and y !=\"\" else x if x !=\"\" and y ==\"\" else y if x ==\"\" and y !=\"\" else str(0)\n",
    "\n",
    "sum_strings(\"123\", \"456\")"
   ]
  },
  {
   "cell_type": "code",
   "execution_count": null,
   "metadata": {},
   "outputs": [],
   "source": []
  }
 ],
 "metadata": {
  "kernelspec": {
   "display_name": "Python 3.10.7 64-bit",
   "language": "python",
   "name": "python3"
  },
  "language_info": {
   "codemirror_mode": {
    "name": "ipython",
    "version": 3
   },
   "file_extension": ".py",
   "mimetype": "text/x-python",
   "name": "python",
   "nbconvert_exporter": "python",
   "pygments_lexer": "ipython3",
   "version": "3.10.7"
  },
  "orig_nbformat": 4,
  "vscode": {
   "interpreter": {
    "hash": "52ca1e607584ad3398d591ffd75feb2082f1da1c71d65ebfa531d3bca73e6dbb"
   }
  }
 },
 "nbformat": 4,
 "nbformat_minor": 2
}
